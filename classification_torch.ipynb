{
 "cells": [
  {
   "metadata": {
    "ExecuteTime": {
     "end_time": "2025-03-17T09:23:53.182546Z",
     "start_time": "2025-03-17T09:23:47.362103Z"
    }
   },
   "cell_type": "code",
   "source": [
    "import torch\n",
    "import torch.nn as nn\n",
    "import pandas as pd\n",
    "import numpy as np\n",
    "import matplotlib.pyplot as plt\n",
    "import seaborn as sns\n",
    "from matplotlib.style.core import available"
   ],
   "id": "4f78613b5a5bfb37",
   "outputs": [],
   "execution_count": 3
  },
  {
   "metadata": {
    "ExecuteTime": {
     "end_time": "2025-03-17T09:23:53.202931Z",
     "start_time": "2025-03-17T09:23:53.195155Z"
    }
   },
   "cell_type": "code",
   "source": "# 1. Make classification data and get it ready",
   "id": "b772120c0dbfe9f1",
   "outputs": [],
   "execution_count": 4
  },
  {
   "metadata": {
    "ExecuteTime": {
     "end_time": "2025-03-17T09:23:53.404396Z",
     "start_time": "2025-03-17T09:23:53.268202Z"
    }
   },
   "cell_type": "code",
   "source": [
    "from sklearn.datasets import make_circles\n",
    "\n",
    "#Make 1000 samples\n",
    "n_samples = 1000\n",
    "\n",
    "# Create circles\n",
    "X, y = make_circles(n_samples,\n",
    "                    noise = 0.03,\n",
    "                    random_state=42)"
   ],
   "id": "883b4f528484dc01",
   "outputs": [],
   "execution_count": 5
  },
  {
   "metadata": {
    "ExecuteTime": {
     "end_time": "2025-03-17T09:23:53.454049Z",
     "start_time": "2025-03-17T09:23:53.437333Z"
    }
   },
   "cell_type": "code",
   "source": "len(X), len(y)",
   "id": "f1996d547aa536e5",
   "outputs": [
    {
     "data": {
      "text/plain": [
       "(1000, 1000)"
      ]
     },
     "execution_count": 6,
     "metadata": {},
     "output_type": "execute_result"
    }
   ],
   "execution_count": 6
  },
  {
   "metadata": {
    "ExecuteTime": {
     "end_time": "2025-03-17T09:23:53.550642Z",
     "start_time": "2025-03-17T09:23:53.536337Z"
    }
   },
   "cell_type": "code",
   "source": [
    "print(f\"First 5 samples of X: {X[:5]}\")\n",
    "print(f\"First 5 samples of y: {y[:5]}\")"
   ],
   "id": "eb7f1ce4a5973e9",
   "outputs": [
    {
     "name": "stdout",
     "output_type": "stream",
     "text": [
      "First 5 samples of X: [[ 0.75424625  0.23148074]\n",
      " [-0.75615888  0.15325888]\n",
      " [-0.81539193  0.17328203]\n",
      " [-0.39373073  0.69288277]\n",
      " [ 0.44220765 -0.89672343]]\n",
      "First 5 samples of y: [1 1 1 1 0]\n"
     ]
    }
   ],
   "execution_count": 7
  },
  {
   "metadata": {
    "ExecuteTime": {
     "end_time": "2025-03-17T09:23:53.694500Z",
     "start_time": "2025-03-17T09:23:53.631096Z"
    }
   },
   "cell_type": "code",
   "source": [
    "circles = pd.DataFrame({\n",
    "    \"X1\":X[:, 0],\n",
    "    \"X2\":X[:, 1],\n",
    "    \"label\": y\n",
    "})\n",
    "circles"
   ],
   "id": "380c6566ed2f74f3",
   "outputs": [
    {
     "data": {
      "text/plain": [
       "           X1        X2  label\n",
       "0    0.754246  0.231481      1\n",
       "1   -0.756159  0.153259      1\n",
       "2   -0.815392  0.173282      1\n",
       "3   -0.393731  0.692883      1\n",
       "4    0.442208 -0.896723      0\n",
       "..        ...       ...    ...\n",
       "995  0.244054  0.944125      0\n",
       "996 -0.978655 -0.272373      0\n",
       "997 -0.136900 -0.810012      1\n",
       "998  0.670362 -0.767502      0\n",
       "999  0.281057  0.963824      0\n",
       "\n",
       "[1000 rows x 3 columns]"
      ],
      "text/html": [
       "<div>\n",
       "<style scoped>\n",
       "    .dataframe tbody tr th:only-of-type {\n",
       "        vertical-align: middle;\n",
       "    }\n",
       "\n",
       "    .dataframe tbody tr th {\n",
       "        vertical-align: top;\n",
       "    }\n",
       "\n",
       "    .dataframe thead th {\n",
       "        text-align: right;\n",
       "    }\n",
       "</style>\n",
       "<table border=\"1\" class=\"dataframe\">\n",
       "  <thead>\n",
       "    <tr style=\"text-align: right;\">\n",
       "      <th></th>\n",
       "      <th>X1</th>\n",
       "      <th>X2</th>\n",
       "      <th>label</th>\n",
       "    </tr>\n",
       "  </thead>\n",
       "  <tbody>\n",
       "    <tr>\n",
       "      <th>0</th>\n",
       "      <td>0.754246</td>\n",
       "      <td>0.231481</td>\n",
       "      <td>1</td>\n",
       "    </tr>\n",
       "    <tr>\n",
       "      <th>1</th>\n",
       "      <td>-0.756159</td>\n",
       "      <td>0.153259</td>\n",
       "      <td>1</td>\n",
       "    </tr>\n",
       "    <tr>\n",
       "      <th>2</th>\n",
       "      <td>-0.815392</td>\n",
       "      <td>0.173282</td>\n",
       "      <td>1</td>\n",
       "    </tr>\n",
       "    <tr>\n",
       "      <th>3</th>\n",
       "      <td>-0.393731</td>\n",
       "      <td>0.692883</td>\n",
       "      <td>1</td>\n",
       "    </tr>\n",
       "    <tr>\n",
       "      <th>4</th>\n",
       "      <td>0.442208</td>\n",
       "      <td>-0.896723</td>\n",
       "      <td>0</td>\n",
       "    </tr>\n",
       "    <tr>\n",
       "      <th>...</th>\n",
       "      <td>...</td>\n",
       "      <td>...</td>\n",
       "      <td>...</td>\n",
       "    </tr>\n",
       "    <tr>\n",
       "      <th>995</th>\n",
       "      <td>0.244054</td>\n",
       "      <td>0.944125</td>\n",
       "      <td>0</td>\n",
       "    </tr>\n",
       "    <tr>\n",
       "      <th>996</th>\n",
       "      <td>-0.978655</td>\n",
       "      <td>-0.272373</td>\n",
       "      <td>0</td>\n",
       "    </tr>\n",
       "    <tr>\n",
       "      <th>997</th>\n",
       "      <td>-0.136900</td>\n",
       "      <td>-0.810012</td>\n",
       "      <td>1</td>\n",
       "    </tr>\n",
       "    <tr>\n",
       "      <th>998</th>\n",
       "      <td>0.670362</td>\n",
       "      <td>-0.767502</td>\n",
       "      <td>0</td>\n",
       "    </tr>\n",
       "    <tr>\n",
       "      <th>999</th>\n",
       "      <td>0.281057</td>\n",
       "      <td>0.963824</td>\n",
       "      <td>0</td>\n",
       "    </tr>\n",
       "  </tbody>\n",
       "</table>\n",
       "<p>1000 rows × 3 columns</p>\n",
       "</div>"
      ]
     },
     "execution_count": 8,
     "metadata": {},
     "output_type": "execute_result"
    }
   ],
   "execution_count": 8
  },
  {
   "metadata": {
    "ExecuteTime": {
     "end_time": "2025-03-17T09:23:54.887593Z",
     "start_time": "2025-03-17T09:23:54.077691Z"
    }
   },
   "cell_type": "code",
   "source": "plt.scatter(x=X[:, 0], y=X[:, 1], c=y, cmap=plt.cm.RdYlBu)",
   "id": "d8814ed8fa94e41e",
   "outputs": [
    {
     "data": {
      "text/plain": [
       "<matplotlib.collections.PathCollection at 0x7f285f73a860>"
      ]
     },
     "execution_count": 9,
     "metadata": {},
     "output_type": "execute_result"
    },
    {
     "data": {
      "text/plain": [
       "<Figure size 640x480 with 1 Axes>"
      ],
      "image/png": "[encoded data removed]"
     },
     "metadata": {},
     "output_type": "display_data"
    }
   ],
   "execution_count": 9
  },
  {
   "metadata": {},
   "cell_type": "markdown",
   "source": "Note: small dataset for experimenting something is called toy dataset.",
   "id": "838b43f337444bff"
  },
  {
   "metadata": {
    "ExecuteTime": {
     "end_time": "2025-03-17T09:23:55.042870Z",
     "start_time": "2025-03-17T09:23:55.025305Z"
    }
   },
   "cell_type": "code",
   "source": "X.shape, y.shape",
   "id": "1738b3842e815185",
   "outputs": [
    {
     "data": {
      "text/plain": [
       "((1000, 2), (1000,))"
      ]
     },
     "execution_count": 10,
     "metadata": {},
     "output_type": "execute_result"
    }
   ],
   "execution_count": 10
  },
  {
   "metadata": {
    "ExecuteTime": {
     "end_time": "2025-03-17T09:23:55.129782Z",
     "start_time": "2025-03-17T09:23:55.115681Z"
    }
   },
   "cell_type": "code",
   "source": "type(X), type(y)",
   "id": "c86d75f0df94cd8c",
   "outputs": [
    {
     "data": {
      "text/plain": [
       "(numpy.ndarray, numpy.ndarray)"
      ]
     },
     "execution_count": 11,
     "metadata": {},
     "output_type": "execute_result"
    }
   ],
   "execution_count": 11
  },
  {
   "metadata": {
    "ExecuteTime": {
     "end_time": "2025-03-17T09:23:55.311851Z",
     "start_time": "2025-03-17T09:23:55.277354Z"
    }
   },
   "cell_type": "code",
   "source": [
    "X = torch.from_numpy(X).type(torch.float)\n",
    "y = torch.from_numpy(y).type(torch.float)"
   ],
   "id": "27dd1d9f11be6a8c",
   "outputs": [],
   "execution_count": 12
  },
  {
   "metadata": {
    "ExecuteTime": {
     "end_time": "2025-03-17T09:23:55.673115Z",
     "start_time": "2025-03-17T09:23:55.652266Z"
    }
   },
   "cell_type": "code",
   "source": "type(X), type(y)",
   "id": "821accf250ff461",
   "outputs": [
    {
     "data": {
      "text/plain": [
       "(torch.Tensor, torch.Tensor)"
      ]
     },
     "execution_count": 13,
     "metadata": {},
     "output_type": "execute_result"
    }
   ],
   "execution_count": 13
  },
  {
   "metadata": {
    "ExecuteTime": {
     "end_time": "2025-03-17T09:23:56.003630Z",
     "start_time": "2025-03-17T09:23:55.978645Z"
    }
   },
   "cell_type": "code",
   "source": [
    "from sklearn.model_selection import train_test_split\n",
    "\n",
    "X_train, X_test, y_train, y_test = train_test_split(X, y, test_size=0.2, random_state=42)"
   ],
   "id": "d7c3ceaaa7a9eb45",
   "outputs": [],
   "execution_count": 14
  },
  {
   "metadata": {},
   "cell_type": "markdown",
   "source": [
    "## 2. building the classifier model.\n",
    "1. Setup device agnostic code so the code will run on gpu if there are available\n",
    "2. Construct a model (by subclassing nn.module)\n",
    "3. Defining loss function and optimizer\n",
    "4. Create training and test loop"
   ],
   "id": "d0100905bb335681"
  },
  {
   "metadata": {
    "ExecuteTime": {
     "end_time": "2025-03-17T09:23:57.875754Z",
     "start_time": "2025-03-17T09:23:56.171291Z"
    }
   },
   "cell_type": "code",
   "source": [
    "device = 'cuda' if torch.cuda.is_available() else 'cpu'\n",
    "device"
   ],
   "id": "6ad6cbe3b62a0038",
   "outputs": [
    {
     "data": {
      "text/plain": [
       "'cuda'"
      ]
     },
     "execution_count": 15,
     "metadata": {},
     "output_type": "execute_result"
    }
   ],
   "execution_count": 15
  },
  {
   "metadata": {
    "ExecuteTime": {
     "end_time": "2025-03-17T09:41:28.828891Z",
     "start_time": "2025-03-17T09:41:24.839208Z"
    }
   },
   "cell_type": "code",
   "source": [
    "class CircleModule(nn.Module):\n",
    "    def __init__(self) :\n",
    "        super().__init__()\n",
    "        self.input_layer = nn.Linear(in_features=X.shape[1], out_features=1) #taking in 2 features and outputs 1 feature\n",
    "        self.layer1 = nn.Linear(in_features=1, out_features=1)\n",
    "    # 3. defining a forward pass\n",
    "    def forward(self, x):\n",
    "        return self.layer1(self.input_layer(x)) # X goes into input_layer and then goes into layer1\n",
    "\n",
    "#4. instantiate the model instance and send it to the target device\n",
    "model_0 = CircleModule().to(device)\n",
    "model_0"
   ],
   "id": "9192860dc3bda1e2",
   "outputs": [
    {
     "data": {
      "text/plain": [
       "CircleModule(\n",
       "  (input_layer): Linear(in_features=2, out_features=1, bias=True)\n",
       "  (layer1): Linear(in_features=1, out_features=1, bias=True)\n",
       ")"
      ]
     },
     "execution_count": 19,
     "metadata": {},
     "output_type": "execute_result"
    }
   ],
   "execution_count": 19
  },
  {
   "metadata": {
    "ExecuteTime": {
     "end_time": "2025-03-17T09:42:50.423168Z",
     "start_time": "2025-03-17T09:42:50.412094Z"
    }
   },
   "cell_type": "code",
   "source": "next(model_0.parameters()).device",
   "id": "c9d35c9ef136e4e9",
   "outputs": [
    {
     "data": {
      "text/plain": [
       "device(type='cuda', index=0)"
      ]
     },
     "execution_count": 20,
     "metadata": {},
     "output_type": "execute_result"
    }
   ],
   "execution_count": 20
  },
  {
   "metadata": {},
   "cell_type": "markdown",
   "source": "Sequential approach",
   "id": "75792ded0470d781"
  },
  {
   "metadata": {
    "ExecuteTime": {
     "end_time": "2025-03-17T11:49:30.451732Z",
     "start_time": "2025-03-17T11:49:30.275069Z"
    }
   },
   "cell_type": "code",
   "source": [
    "model_1 = nn.Sequential(\n",
    "    nn.Linear(in_features=X.shape[1], out_features=1),\n",
    "    nn.Linear(in_features=1, out_features=1),\n",
    ").to(device)\n",
    "\n",
    "model_1"
   ],
   "id": "7512ff94ebb45a57",
   "outputs": [
    {
     "data": {
      "text/plain": [
       "Sequential(\n",
       "  (0): Linear(in_features=2, out_features=1, bias=True)\n",
       "  (1): Linear(in_features=1, out_features=1, bias=True)\n",
       ")"
      ]
     },
     "execution_count": 21,
     "metadata": {},
     "output_type": "execute_result"
    }
   ],
   "execution_count": 21
  },
  {
   "metadata": {},
   "cell_type": "markdown",
   "source": "Sequential inside of the class module style code",
   "id": "b2327fc9611ff500"
  },
  {
   "metadata": {
    "ExecuteTime": {
     "end_time": "2025-03-17T11:54:02.504939Z",
     "start_time": "2025-03-17T11:54:02.458293Z"
    }
   },
   "cell_type": "code",
   "source": [
    "class CircleModule(nn.Module):\n",
    "    def __init__(self) :\n",
    "        super().__init__()\n",
    "        self.linear_model = nn.Sequential(\n",
    "            nn.Linear(in_features=X.shape[1], out_features=1),\n",
    "            nn.Linear(in_features=1, out_features=1)\n",
    "        )\n",
    "    # 3. defining a forward pass\n",
    "    def forward(self, x):\n",
    "        return linear_model(x) # X goes into input_layer and then goes into layer1\n",
    "\n",
    "#4. instantiate the model instance and send it to the target device\n",
    "model_0 = CircleModule().to(device)\n",
    "model_0"
   ],
   "id": "db43f71af8290de",
   "outputs": [
    {
     "data": {
      "text/plain": [
       "CircleModule(\n",
       "  (linear_model): Sequential(\n",
       "    (0): Linear(in_features=2, out_features=1, bias=True)\n",
       "    (1): Linear(in_features=1, out_features=1, bias=True)\n",
       "  )\n",
       ")"
      ]
     },
     "execution_count": 22,
     "metadata": {},
     "output_type": "execute_result"
    }
   ],
   "execution_count": 22
  },
  {
   "metadata": {
    "ExecuteTime": {
     "end_time": "2025-03-17T11:58:48.860700Z",
     "start_time": "2025-03-17T11:58:45.024843Z"
    }
   },
   "cell_type": "code",
   "source": "model_1.state_dict()",
   "id": "447c441d5ae192c6",
   "outputs": [
    {
     "data": {
      "text/plain": [
       "OrderedDict([('0.weight', tensor([[ 0.2850, -0.6218]], device='cuda:0')),\n",
       "             ('0.bias', tensor([0.4030], device='cuda:0')),\n",
       "             ('1.weight', tensor([[0.8904]], device='cuda:0')),\n",
       "             ('1.bias', tensor([0.1971], device='cuda:0'))])"
      ]
     },
     "execution_count": 23,
     "metadata": {},
     "output_type": "execute_result"
    }
   ],
   "execution_count": 23
  },
  {
   "metadata": {
    "ExecuteTime": {
     "end_time": "2025-03-17T12:05:57.175991Z",
     "start_time": "2025-03-17T12:05:57.124142Z"
    }
   },
   "cell_type": "code",
   "source": [
    "#predictions\n",
    "with torch.inference_mode():\n",
    "    untrained_preds = model_1(X_test.to(device))\n",
    "print(f\"length of preds are: {len(untrained_preds)}, Shape: {untrained_preds.shape}\")\n",
    "print(f\"length of test is: {len(y_test)}, Shape: {y_test.shape}\")\n",
    "print(f\"First 10 preds: {torch.round(untrained_preds[:10])}\")\n",
    "print(f\"First 10 test: {y_test[:10]}\")"
   ],
   "id": "3ee824245c7b1afd",
   "outputs": [
    {
     "name": "stdout",
     "output_type": "stream",
     "text": [
      "length of preds are: 200, Shape: torch.Size([200, 1])\n",
      "length of test is: 200, Shape: torch.Size([200])\n",
      "First 10 preds: tensor([[0.],\n",
      "        [0.],\n",
      "        [1.],\n",
      "        [-0.],\n",
      "        [1.],\n",
      "        [1.],\n",
      "        [0.],\n",
      "        [1.],\n",
      "        [1.],\n",
      "        [0.]], device='cuda:0')\n",
      "First 10 test: tensor([1., 0., 1., 0., 1., 1., 0., 0., 1., 0.])\n"
     ]
    }
   ],
   "execution_count": 29
  },
  {
   "metadata": {
    "ExecuteTime": {
     "end_time": "2025-03-17T12:41:54.776724Z",
     "start_time": "2025-03-17T12:41:49.294262Z"
    }
   },
   "cell_type": "code",
   "source": [
    "# this is basically combination of sigmoid activation and cross entropy which provides more stability\n",
    "loss_func = nn.BCEWithLogitsLoss()\n",
    "optimizer = torch.optim.Adam(model_0.parameters(), lr=0.001)"
   ],
   "id": "33796fedc0bbe78a",
   "outputs": [],
   "execution_count": 31
  },
  {
   "metadata": {
    "ExecuteTime": {
     "end_time": "2025-03-17T12:45:56.898995Z",
     "start_time": "2025-03-17T12:45:56.885104Z"
    }
   },
   "cell_type": "code",
   "source": [
    "def accuracy(y_true, y_pred):\n",
    "    correct = torch.eq(y_true, y_pred).sum.item\n",
    "    acc = (correct / len(y_pred)) * 100\n",
    "    return acc"
   ],
   "id": "2945d8dda36a8143",
   "outputs": [],
   "execution_count": 32
  },
  {
   "metadata": {},
   "cell_type": "code",
   "outputs": [],
   "execution_count": null,
   "source": "",
   "id": "1b4757ebf1cc505d"
  }
 ],
 "metadata": {
  "kernelspec": {
   "name": "python3",
   "language": "python",
   "display_name": "Python 3 (ipykernel)"
  }
 },
 "nbformat": 5,
 "nbformat_minor": 9
}
