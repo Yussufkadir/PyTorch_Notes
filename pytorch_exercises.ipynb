{
 "cells": [
  {
   "metadata": {
    "ExecuteTime": {
     "end_time": "2025-02-14T12:49:39.418614Z",
     "start_time": "2025-02-14T12:49:39.400599Z"
    }
   },
   "cell_type": "code",
   "source": [
    "import pandas as pd\n",
    "import numpy as np\n",
    "import torch\n",
    "from IPython.core.tests.test_inputtransformer2 import examples\n",
    "from torch.onnx.symbolic_opset11 import unsqueeze\n",
    "from tornado.escape import squeeze\n",
    "import os\n",
    "os.environ[\"CUDA_LAUNCH_BLOCKING\"] = \"1\""
   ],
   "id": "9e6a7095c41957da",
   "outputs": [],
   "execution_count": 28
  },
  {
   "metadata": {
    "ExecuteTime": {
     "end_time": "2025-02-14T12:49:39.472581Z",
     "start_time": "2025-02-14T12:49:39.462495Z"
    }
   },
   "cell_type": "code",
   "source": [
    "if torch.cuda.is_available():\n",
    "    print(\"CUDA is available!\")\n",
    "    print(f\"Number of GPUs: {torch.cuda.device_count()}\")\n",
    "    print(f\"GPU Name: {torch.cuda.get_device_name(0)}\")\n",
    "else:\n",
    "    print(\"CUDA is not available.\")"
   ],
   "id": "f1e21e2788a77cda",
   "outputs": [
    {
     "name": "stdout",
     "output_type": "stream",
     "text": [
      "CUDA is available!\n",
      "Number of GPUs: 1\n",
      "GPU Name: NVIDIA GeForce GTX 1660 Ti with Max-Q Design\n"
     ]
    }
   ],
   "execution_count": 29
  },
  {
   "metadata": {
    "ExecuteTime": {
     "end_time": "2025-02-14T12:49:39.557157Z",
     "start_time": "2025-02-14T12:49:39.545862Z"
    }
   },
   "cell_type": "code",
   "source": [
    "# 1. Create a 1D array of numbers from 0 to 9\n",
    "arr = np.arange(10)\n",
    "arr"
   ],
   "id": "c0f2fdf2ef4abf0e",
   "outputs": [
    {
     "data": {
      "text/plain": [
       "array([0, 1, 2, 3, 4, 5, 6, 7, 8, 9])"
      ]
     },
     "execution_count": 30,
     "metadata": {},
     "output_type": "execute_result"
    }
   ],
   "execution_count": 30
  },
  {
   "metadata": {
    "ExecuteTime": {
     "end_time": "2025-02-14T12:49:39.648679Z",
     "start_time": "2025-02-14T12:49:39.635112Z"
    }
   },
   "cell_type": "code",
   "source": [
    "# 2. Convert a numpy array to a torch tensor\n",
    "tensor = torch.from_numpy(arr)\n",
    "tensor"
   ],
   "id": "293a98634a27932b",
   "outputs": [
    {
     "data": {
      "text/plain": [
       "tensor([0, 1, 2, 3, 4, 5, 6, 7, 8, 9])"
      ]
     },
     "execution_count": 31,
     "metadata": {},
     "output_type": "execute_result"
    }
   ],
   "execution_count": 31
  },
  {
   "metadata": {
    "ExecuteTime": {
     "end_time": "2025-02-14T12:49:39.732317Z",
     "start_time": "2025-02-14T12:49:39.721342Z"
    }
   },
   "cell_type": "code",
   "source": [
    "tensor = torch.tensor([1,2,3])\n",
    "tensor + 10"
   ],
   "id": "e5ee5d3999482f1a",
   "outputs": [
    {
     "data": {
      "text/plain": [
       "tensor([11, 12, 13])"
      ]
     },
     "execution_count": 32,
     "metadata": {},
     "output_type": "execute_result"
    }
   ],
   "execution_count": 32
  },
  {
   "metadata": {
    "ExecuteTime": {
     "end_time": "2025-02-14T12:49:39.804265Z",
     "start_time": "2025-02-14T12:49:39.791410Z"
    }
   },
   "cell_type": "code",
   "source": "tensor * 10",
   "id": "4f5ea3b1b346c36f",
   "outputs": [
    {
     "data": {
      "text/plain": [
       "tensor([10, 20, 30])"
      ]
     },
     "execution_count": 33,
     "metadata": {},
     "output_type": "execute_result"
    }
   ],
   "execution_count": 33
  },
  {
   "metadata": {
    "ExecuteTime": {
     "end_time": "2025-02-14T12:49:39.879298Z",
     "start_time": "2025-02-14T12:49:39.867426Z"
    }
   },
   "cell_type": "code",
   "source": "torch.mul(tensor, 10)",
   "id": "7bd1f85813688395",
   "outputs": [
    {
     "data": {
      "text/plain": [
       "tensor([10, 20, 30])"
      ]
     },
     "execution_count": 34,
     "metadata": {},
     "output_type": "execute_result"
    }
   ],
   "execution_count": 34
  },
  {
   "metadata": {},
   "cell_type": "markdown",
   "source": [
    "Matrix multiplication has two elements\n",
    "- Element wise multiplication (needs same dimension of the matrices) you use * for this operation\n",
    "- Dot product (needs same number of rows in the first matrix and columns in the second matrix) you use matmul of the torch for this operation"
   ],
   "id": "bc03b00dc8f9fdc4"
  },
  {
   "metadata": {
    "ExecuteTime": {
     "end_time": "2025-02-14T12:49:39.947136Z",
     "start_time": "2025-02-14T12:49:39.936766Z"
    }
   },
   "cell_type": "code",
   "source": "tensor * tensor",
   "id": "b384ac75605daf9f",
   "outputs": [
    {
     "data": {
      "text/plain": [
       "tensor([1, 4, 9])"
      ]
     },
     "execution_count": 35,
     "metadata": {},
     "output_type": "execute_result"
    }
   ],
   "execution_count": 35
  },
  {
   "metadata": {
    "ExecuteTime": {
     "end_time": "2025-02-14T12:49:40.018253Z",
     "start_time": "2025-02-14T12:49:40.007145Z"
    }
   },
   "cell_type": "code",
   "source": "tensor.matmul(tensor)",
   "id": "335d5c9b13a47d93",
   "outputs": [
    {
     "data": {
      "text/plain": [
       "tensor(14)"
      ]
     },
     "execution_count": 36,
     "metadata": {},
     "output_type": "execute_result"
    }
   ],
   "execution_count": 36
  },
  {
   "metadata": {
    "ExecuteTime": {
     "end_time": "2025-02-14T12:49:40.118670Z",
     "start_time": "2025-02-14T12:49:40.104823Z"
    }
   },
   "cell_type": "code",
   "source": [
    "%%time\n",
    "value = 0\n",
    "for i in range(len(tensor)):\n",
    "    value += tensor[i] * tensor[i]\n",
    "print(value)"
   ],
   "id": "75caa07fc1f98a2b",
   "outputs": [
    {
     "name": "stdout",
     "output_type": "stream",
     "text": [
      "tensor(14)\n",
      "CPU times: user 6.1 ms, sys: 0 ns, total: 6.1 ms\n",
      "Wall time: 4.51 ms\n"
     ]
    }
   ],
   "execution_count": 37
  },
  {
   "metadata": {
    "ExecuteTime": {
     "end_time": "2025-02-14T12:49:40.198933Z",
     "start_time": "2025-02-14T12:49:40.185142Z"
    }
   },
   "cell_type": "code",
   "source": [
    "%%time\n",
    "torch.matmul(tensor, tensor)"
   ],
   "id": "7d2f5831400f2dec",
   "outputs": [
    {
     "name": "stdout",
     "output_type": "stream",
     "text": [
      "CPU times: user 875 μs, sys: 212 μs, total: 1.09 ms\n",
      "Wall time: 915 μs\n"
     ]
    },
    {
     "data": {
      "text/plain": [
       "tensor(14)"
      ]
     },
     "execution_count": 38,
     "metadata": {},
     "output_type": "execute_result"
    }
   ],
   "execution_count": 38
  },
  {
   "metadata": {},
   "cell_type": "markdown",
   "source": [
    "In order to perform matrix multiplication\n",
    "- The number of columns in the first matrix must be equal to the number of rows in the second matrix\n",
    "- The result will have the same number of rows as the first matrix, and the same number of columns as the second matrix"
   ],
   "id": "d9e47e9a74b44b29"
  },
  {
   "metadata": {},
   "cell_type": "markdown",
   "source": "You can use transpose or reshape in order to make the matrix multiplication in the case of the number of columns in the first matrix is not equal to the number of rows in the second matrix",
   "id": "79da814f7f008995"
  },
  {
   "metadata": {
    "ExecuteTime": {
     "end_time": "2025-02-14T12:49:40.279670Z",
     "start_time": "2025-02-14T12:49:40.264882Z"
    }
   },
   "cell_type": "code",
   "source": [
    "#for example\n",
    "tensor_A = torch.tensor([[1,2], [3,4], [5,6]])\n",
    "tensor_B = torch.tensor([[7,8], [9,10]])\n",
    "torch.mm(tensor_A, tensor_B)"
   ],
   "id": "569ad92d8988854d",
   "outputs": [
    {
     "data": {
      "text/plain": [
       "tensor([[ 25,  28],\n",
       "        [ 57,  64],\n",
       "        [ 89, 100]])"
      ]
     },
     "execution_count": 39,
     "metadata": {},
     "output_type": "execute_result"
    }
   ],
   "execution_count": 39
  },
  {
   "metadata": {},
   "cell_type": "markdown",
   "source": "When you try to apply torch.mean() make sure that tensor is not in long dtype otherwise you will get an error. there are other errors as well such as the tensor is empty.",
   "id": "8b344a67f2fd3601"
  },
  {
   "metadata": {},
   "cell_type": "markdown",
   "source": "when you add arg into the min and max will return the index of the min and max value in the tensor for example x.argmin() will return the index of the min value in the tensor x",
   "id": "68d6d78f4d5d457e"
  },
  {
   "metadata": {},
   "cell_type": "markdown",
   "source": [
    "## reshaping, resizing, stacking, and squeezing\n",
    "- Reshaping is changing the number of rows and columns of the matrix\n",
    "- Resizing is changing the size of the matrix\n",
    "- Stacking is concatenating the two tensors has vstack and hstack which are vertical and horizontal stacking respectively\n",
    "- Squeezing is removing the dimension of the tensor\n",
    "- Unsqueeze is adding the dimension of the tensor\n",
    "- View is changing the shape of the tensor, but it will not change the data of the tensor (keeps the same memory as the original tensor)\n",
    "- Permute is changing the order of the tensor\n",
    "- Transpose is changing the order of the tensor\n",
    "- Flatten is changing the tensor to 1D tensor\n",
    "- Concatenate is concatenating the two tensors\n",
    "- Split is splitting the tensor into the number of chunks\n",
    "- Chunk is splitting the tensor into the number of chunks"
   ],
   "id": "54cd768e2a47bcd9"
  },
  {
   "metadata": {
    "ExecuteTime": {
     "end_time": "2025-02-14T12:49:40.412023Z",
     "start_time": "2025-02-14T12:49:40.401662Z"
    }
   },
   "cell_type": "code",
   "source": [
    "x = torch.arange(0,10)\n",
    "x, x.shape"
   ],
   "id": "4cf81058ce29a80e",
   "outputs": [
    {
     "data": {
      "text/plain": [
       "(tensor([0, 1, 2, 3, 4, 5, 6, 7, 8, 9]), torch.Size([10]))"
      ]
     },
     "execution_count": 40,
     "metadata": {},
     "output_type": "execute_result"
    }
   ],
   "execution_count": 40
  },
  {
   "metadata": {
    "ExecuteTime": {
     "end_time": "2025-02-14T12:49:40.483074Z",
     "start_time": "2025-02-14T12:49:40.470600Z"
    }
   },
   "cell_type": "code",
   "source": [
    "x_reshaped = x.reshape(2,5) # shape needs to match the original ones\n",
    "x_reshaped, x_reshaped.shape"
   ],
   "id": "44630df162d47f2",
   "outputs": [
    {
     "data": {
      "text/plain": [
       "(tensor([[0, 1, 2, 3, 4],\n",
       "         [5, 6, 7, 8, 9]]),\n",
       " torch.Size([2, 5]))"
      ]
     },
     "execution_count": 41,
     "metadata": {},
     "output_type": "execute_result"
    }
   ],
   "execution_count": 41
  },
  {
   "metadata": {
    "ExecuteTime": {
     "end_time": "2025-02-14T12:49:40.686992Z",
     "start_time": "2025-02-14T12:49:40.675702Z"
    }
   },
   "cell_type": "code",
   "source": [
    "#change the view\n",
    "z = x.view(2,5)\n",
    "z.shape, x.shape"
   ],
   "id": "6a117fab82b6b158",
   "outputs": [
    {
     "data": {
      "text/plain": [
       "(torch.Size([2, 5]), torch.Size([10]))"
      ]
     },
     "execution_count": 42,
     "metadata": {},
     "output_type": "execute_result"
    }
   ],
   "execution_count": 42
  },
  {
   "metadata": {
    "ExecuteTime": {
     "end_time": "2025-02-14T12:49:40.868255Z",
     "start_time": "2025-02-14T12:49:40.854509Z"
    }
   },
   "cell_type": "code",
   "source": [
    "x_stacked = torch.stack((x, x), dim=1)\n",
    "x_stacked"
   ],
   "id": "d3fe44febbc26dda",
   "outputs": [
    {
     "data": {
      "text/plain": [
       "tensor([[0, 0],\n",
       "        [1, 1],\n",
       "        [2, 2],\n",
       "        [3, 3],\n",
       "        [4, 4],\n",
       "        [5, 5],\n",
       "        [6, 6],\n",
       "        [7, 7],\n",
       "        [8, 8],\n",
       "        [9, 9]])"
      ]
     },
     "execution_count": 43,
     "metadata": {},
     "output_type": "execute_result"
    }
   ],
   "execution_count": 43
  },
  {
   "metadata": {
    "ExecuteTime": {
     "end_time": "2025-02-14T12:49:40.986245Z",
     "start_time": "2025-02-14T12:49:40.977604Z"
    }
   },
   "cell_type": "code",
   "source": [
    "#torch squeeze\n",
    "x_reshaped.shape"
   ],
   "id": "6f38db6630722858",
   "outputs": [
    {
     "data": {
      "text/plain": [
       "torch.Size([2, 5])"
      ]
     },
     "execution_count": 44,
     "metadata": {},
     "output_type": "execute_result"
    }
   ],
   "execution_count": 44
  },
  {
   "metadata": {
    "ExecuteTime": {
     "end_time": "2025-02-14T12:49:41.060219Z",
     "start_time": "2025-02-14T12:49:41.049177Z"
    }
   },
   "cell_type": "code",
   "source": "x_reshaped.squeeze().shape",
   "id": "10cfe9f9caa8eb5",
   "outputs": [
    {
     "data": {
      "text/plain": [
       "torch.Size([2, 5])"
      ]
     },
     "execution_count": 45,
     "metadata": {},
     "output_type": "execute_result"
    }
   ],
   "execution_count": 45
  },
  {
   "metadata": {},
   "cell_type": "markdown",
   "source": "Squeeze eliminates the dimension where it has only 1 element. If you want to eliminate a specific dimension you can pass the dimension as an argument to the squeeze function. For example, x_reshaped.squeeze(0) will eliminate the first dimension of the tensor x_reshaped",
   "id": "4e4f54f818ae2adf"
  },
  {
   "metadata": {},
   "cell_type": "markdown",
   "source": "Meanwhile unsqueeze is used for the reversing the what squeeze does or sort of adds the dimension to the tensor. For example, x_reshaped.unsqueeze(0) will add the dimension to the tensor x_reshaped and this sort of helps in training since the model expects the input to have a specific dimension.",
   "id": "90fb96621883ed38"
  },
  {
   "metadata": {
    "ExecuteTime": {
     "end_time": "2025-02-14T12:49:41.239020Z",
     "start_time": "2025-02-14T12:49:41.226622Z"
    }
   },
   "cell_type": "code",
   "source": [
    "x_unsqueezed = x_reshaped.unsqueeze(dim=0)\n",
    "x_unsqueezed"
   ],
   "id": "e38f791e910e6e39",
   "outputs": [
    {
     "data": {
      "text/plain": [
       "tensor([[[0, 1, 2, 3, 4],\n",
       "         [5, 6, 7, 8, 9]]])"
      ]
     },
     "execution_count": 46,
     "metadata": {},
     "output_type": "execute_result"
    }
   ],
   "execution_count": 46
  },
  {
   "metadata": {
    "ExecuteTime": {
     "end_time": "2025-02-14T12:49:41.362025Z",
     "start_time": "2025-02-14T12:49:41.348849Z"
    }
   },
   "cell_type": "code",
   "source": [
    "#torch permute it has args input and dims which is the order of the tensor\n",
    "x_permuted = x_reshaped.permute(1,0)\n",
    "x_permuted"
   ],
   "id": "6a27f26d0d21f9f8",
   "outputs": [
    {
     "data": {
      "text/plain": [
       "tensor([[0, 5],\n",
       "        [1, 6],\n",
       "        [2, 7],\n",
       "        [3, 8],\n",
       "        [4, 9]])"
      ]
     },
     "execution_count": 47,
     "metadata": {},
     "output_type": "execute_result"
    }
   ],
   "execution_count": 47
  },
  {
   "metadata": {},
   "cell_type": "markdown",
   "source": "torch permute is especially needed in the cases like computer vision where the color channel place is different in the tensor. For example, the color channel is in the first dimension in the pytorch but in the tensorflow, it is in the last dimension so with the help of permute color channel can be changed to the last dimension from the first one.",
   "id": "339aa29ef10987a2"
  },
  {
   "metadata": {
    "ExecuteTime": {
     "end_time": "2025-02-14T12:49:41.475854Z",
     "start_time": "2025-02-14T12:49:41.465376Z"
    }
   },
   "cell_type": "code",
   "source": [
    "#indexing\n",
    "indexing_tensor = torch.arange(1,10).reshape(1,3,3)\n",
    "indexing_tensor[0,:,:]"
   ],
   "id": "51f7d905463ea095",
   "outputs": [
    {
     "data": {
      "text/plain": [
       "tensor([[1, 2, 3],\n",
       "        [4, 5, 6],\n",
       "        [7, 8, 9]])"
      ]
     },
     "execution_count": 48,
     "metadata": {},
     "output_type": "execute_result"
    }
   ],
   "execution_count": 48
  },
  {
   "metadata": {},
   "cell_type": "markdown",
   "source": "Pytorch actually has a functionality which can interact with numpy. you do not need to convert the numpy array to tensor you can directly use the numpy array in the pytorch function. Or you can convert np array to an tensor with torch.from_numpy() function. And, from tensor to numpy you can use the tensor.numpy() function.",
   "id": "20fc8f3357b155da"
  },
  {
   "metadata": {
    "ExecuteTime": {
     "end_time": "2025-02-14T12:49:41.612196Z",
     "start_time": "2025-02-14T12:49:41.598438Z"
    }
   },
   "cell_type": "code",
   "source": [
    "array = np.arange(1,10)\n",
    "tensor = torch.from_numpy(array)\n",
    "array, tensor"
   ],
   "id": "ea18469856aaa4a1",
   "outputs": [
    {
     "data": {
      "text/plain": [
       "(array([1, 2, 3, 4, 5, 6, 7, 8, 9]), tensor([1, 2, 3, 4, 5, 6, 7, 8, 9]))"
      ]
     },
     "execution_count": 49,
     "metadata": {},
     "output_type": "execute_result"
    }
   ],
   "execution_count": 49
  },
  {
   "metadata": {},
   "cell_type": "markdown",
   "source": "numpys default dtype is float64 but the default dtype of the torch is float32",
   "id": "92e84af9bd2e1e79"
  },
  {
   "metadata": {},
   "cell_type": "markdown",
   "source": "warning: when converting from numpy to pytorch, pytorch reflects numpys default datatype of float64 unless specified otherwise.",
   "id": "c985cf5f30ff50c3"
  },
  {
   "metadata": {},
   "cell_type": "markdown",
   "source": [
    "- In general AI with deep learning or machine learning is to deal with data which are represented in numerical matrices and models mostly tries to get the patterns between these numbers and create a prediction based on these patterns. So, it is important to know how to manipulate these matrices in order to get the best results from the model.\n",
    "\n",
    "- In short neural network learns like this:\n",
    "\n",
    "    start with random numbers -> tensor operations -> update random numbers to try and make them better representations of the data -> repeat until the numbers are good representations of the data"
   ],
   "id": "298261f2e758e6b8"
  },
  {
   "metadata": {
    "ExecuteTime": {
     "end_time": "2025-02-14T12:49:41.729397Z",
     "start_time": "2025-02-14T12:49:41.716646Z"
    }
   },
   "cell_type": "code",
   "source": [
    "device = \"cuda\" if torch.cuda.is_available() else \"cpu\"\n",
    "device"
   ],
   "id": "cbe4297387a2a729",
   "outputs": [
    {
     "data": {
      "text/plain": [
       "'cuda'"
      ]
     },
     "execution_count": 50,
     "metadata": {},
     "output_type": "execute_result"
    }
   ],
   "execution_count": 50
  },
  {
   "metadata": {
    "ExecuteTime": {
     "end_time": "2025-02-14T12:49:41.967049Z",
     "start_time": "2025-02-14T12:49:41.955455Z"
    }
   },
   "cell_type": "code",
   "source": "torch.cuda.device_count()",
   "id": "13cad090e030d8d",
   "outputs": [
    {
     "data": {
      "text/plain": [
       "1"
      ]
     },
     "execution_count": 51,
     "metadata": {},
     "output_type": "execute_result"
    }
   ],
   "execution_count": 51
  },
  {
   "metadata": {
    "ExecuteTime": {
     "end_time": "2025-02-14T12:49:42.177121Z",
     "start_time": "2025-02-14T12:49:42.167002Z"
    }
   },
   "cell_type": "code",
   "source": [
    "torch.cuda.empty_cache()\n",
    "torch.cuda.reset_peak_memory_stats()"
   ],
   "id": "70303905208f46c0",
   "outputs": [],
   "execution_count": 52
  },
  {
   "metadata": {
    "ExecuteTime": {
     "end_time": "2025-02-14T12:49:42.279453Z",
     "start_time": "2025-02-14T12:49:42.262294Z"
    }
   },
   "cell_type": "code",
   "source": [
    "tensor = torch.tensor([1,2,3], device=device)\n",
    "print(tensor, tensor.device)"
   ],
   "id": "af0a70b193ab3623",
   "outputs": [
    {
     "name": "stdout",
     "output_type": "stream",
     "text": [
      "tensor([1, 2, 3], device='cuda:0') cuda:0\n"
     ]
    }
   ],
   "execution_count": 53
  },
  {
   "metadata": {},
   "cell_type": "markdown",
   "source": "Note that numpy only works with the CPU, so if you want to use the GPU you need to convert the numpy array to a tensor and then move it to the GPU.",
   "id": "5dec9b09b6253b42"
  },
  {
   "metadata": {
    "ExecuteTime": {
     "end_time": "2025-02-14T13:37:04.556829Z",
     "start_time": "2025-02-14T13:37:04.544228Z"
    }
   },
   "cell_type": "code",
   "source": [
    "tensor_back_cpu = tensor.to(\"cpu\")\n",
    "tensor_back_cpu.device, tensor.device"
   ],
   "id": "752a17bad8f5515b",
   "outputs": [
    {
     "data": {
      "text/plain": [
       "(device(type='cpu'), device(type='cuda', index=0))"
      ]
     },
     "execution_count": 56,
     "metadata": {},
     "output_type": "execute_result"
    }
   ],
   "execution_count": 56
  },
  {
   "metadata": {
    "ExecuteTime": {
     "end_time": "2025-02-14T13:54:12.114874Z",
     "start_time": "2025-02-14T13:54:10.580824Z"
    }
   },
   "cell_type": "code",
   "source": [
    "from torch import nn\n",
    "import matplotlib.pyplot as plt\n",
    "torch.__version__"
   ],
   "id": "8251d3e10255d73f",
   "outputs": [
    {
     "data": {
      "text/plain": [
       "'2.5.1+cu121'"
      ]
     },
     "execution_count": 58,
     "metadata": {},
     "output_type": "execute_result"
    }
   ],
   "execution_count": 58
  },
  {
   "metadata": {
    "ExecuteTime": {
     "end_time": "2025-02-14T14:01:03.874928Z",
     "start_time": "2025-02-14T14:01:03.850170Z"
    }
   },
   "cell_type": "code",
   "source": [
    "weight = 0.7\n",
    "bias = 0.3\n",
    "\n",
    "start = 0\n",
    "end = 1\n",
    "step = 0.02\n",
    "\n",
    "X = torch.arange(start, end, step).unsqueeze(dim=1)\n",
    "y = X * weight + bias\n",
    "X[:10], y[:10], len(X), len(y)"
   ],
   "id": "aa47a8694328a476",
   "outputs": [
    {
     "data": {
      "text/plain": [
       "(tensor([[0.0000],\n",
       "         [0.0200],\n",
       "         [0.0400],\n",
       "         [0.0600],\n",
       "         [0.0800],\n",
       "         [0.1000],\n",
       "         [0.1200],\n",
       "         [0.1400],\n",
       "         [0.1600],\n",
       "         [0.1800]]),\n",
       " tensor([[0.3000],\n",
       "         [0.3140],\n",
       "         [0.3280],\n",
       "         [0.3420],\n",
       "         [0.3560],\n",
       "         [0.3700],\n",
       "         [0.3840],\n",
       "         [0.3980],\n",
       "         [0.4120],\n",
       "         [0.4260]]),\n",
       " 50,\n",
       " 50)"
      ]
     },
     "execution_count": 60,
     "metadata": {},
     "output_type": "execute_result"
    }
   ],
   "execution_count": 60
  },
  {
   "metadata": {
    "ExecuteTime": {
     "end_time": "2025-02-14T14:07:41.833966Z",
     "start_time": "2025-02-14T14:07:41.820790Z"
    }
   },
   "cell_type": "code",
   "source": [
    "train_split = int(0.8 * len(X))\n",
    "train_split"
   ],
   "id": "e3a0349e04392ca3",
   "outputs": [
    {
     "data": {
      "text/plain": [
       "40"
      ]
     },
     "execution_count": 61,
     "metadata": {},
     "output_type": "execute_result"
    }
   ],
   "execution_count": 61
  },
  {
   "metadata": {
    "ExecuteTime": {
     "end_time": "2025-02-14T14:08:20.269598Z",
     "start_time": "2025-02-14T14:08:20.260276Z"
    }
   },
   "cell_type": "code",
   "source": [
    "X_train, y_train = X[:train_split], y[:train_split]\n",
    "X_test, y_test = X[train_split:], y[train_split:]"
   ],
   "id": "2fe44dd2645c0b2",
   "outputs": [],
   "execution_count": 62
  },
  {
   "metadata": {
    "ExecuteTime": {
     "end_time": "2025-02-14T14:22:03.609385Z",
     "start_time": "2025-02-14T14:21:59.915925Z"
    }
   },
   "cell_type": "code",
   "source": [
    "def plot_predictions(train_data=X_train, train_labels=y_train, test_data=X_test, test_labels=y_test, predictions=None):\n",
    "    plt.figure(figsize=(10,6))\n",
    "    plt.scatter(train_data, train_labels, c='b', s=4,label='Training Data')\n",
    "    plt.scatter(test_data, test_labels, c='g', s=4, label='Testing Data')\n",
    "    if predictions is not None:\n",
    "        plt.scatter(test_data, predictions, c='r', label='Predictions')\n",
    "    plt.legend()\n",
    "    plt.show()\n",
    "plot_predictions()"
   ],
   "id": "be58b1cac690b12a",
   "outputs": [
    {
     "data": {
      "text/plain": [
       "<Figure size 1000x600 with 1 Axes>"
      ],
      "image/png": "[encoded data removed]"
     },
     "metadata": {},
     "output_type": "display_data"
    }
   ],
   "execution_count": 67
  },
  {
   "metadata": {
    "ExecuteTime": {
     "end_time": "2025-02-14T18:09:00.675246Z",
     "start_time": "2025-02-14T18:09:00.641164Z"
    }
   },
   "cell_type": "code",
   "source": [
    "class LinearRegression(nn.Module):\n",
    "    def __init__(self):\n",
    "        super().__init__()\n",
    "        self.weights = nn.Parameter(torch.randn(1,\n",
    "                                                requires_grad=True,\n",
    "                                                dtype=torch.float))\n",
    "        self.bias = nn.Parameter(torch.randn(1,\n",
    "                                             requires_grad=True,\n",
    "                                             dtype=torch.float))\n",
    "    def forward(self, x: torch.Tensor) -> torch.Tensor:\n",
    "        return self.weights * x + self.bias"
   ],
   "id": "32fd9d7fec9c3dff",
   "outputs": [],
   "execution_count": 73
  },
  {
   "metadata": {},
   "cell_type": "markdown",
   "source": "Torch Parameter is a wrapper around a tensor that allows to be updated in the optimization process. It is a tensor subclass that registers it as a parameter of the module when assigned as an attribute. one of the main advantages of the parameter is that it is automatically added to the list of parameters when assigned as an attribute of the module.",
   "id": "a876b64b437a725e"
  },
  {
   "metadata": {},
   "cell_type": "markdown",
   "source": [
    "### PyTorch essentials in deep learning\n",
    "\n",
    "- torch.nn: a subpackage that contains modules and extensible classes for building neural networks.\n",
    "- torch.nn.parameter: a class that sets the parameters of the neural network.\n",
    "- torch.nn.Module: base class for all neural network modules. if you subclass it you should overwrite forward() method.\n",
    "- torch.optim: a subpackage that contains modules and classes for optimizing the neural network.\n",
    "- def forward(): method that defines the computation performed at every call."
   ],
   "id": "a9d08c404304a734"
  },
  {
   "metadata": {},
   "cell_type": "markdown",
   "source": [
    "#### PyTorch dataset loaders\n",
    "- DataLoader: a class that provides an iterable over a dataset.\n",
    "- Dataset: an abstract class that represents a dataset.\n",
    "- TensorDataset: a class that represents a dataset that contains only tensors.\n",
    "- these packages are imported with torch.utils.data"
   ],
   "id": "6fca4ffabf43551a"
  },
  {
   "metadata": {},
   "cell_type": "markdown",
   "source": ".parameters shows the parameters of your model it is an generator.",
   "id": "fa00250ae7d7b856"
  },
  {
   "metadata": {
    "ExecuteTime": {
     "end_time": "2025-02-14T18:12:03.551787Z",
     "start_time": "2025-02-14T18:12:03.509042Z"
    }
   },
   "cell_type": "code",
   "source": [
    "torch.manual_seed(42)\n",
    "\n",
    "model_0 = LinearRegression()\n",
    "\n",
    "list(model_0.parameters()), model_0.state_dict()"
   ],
   "id": "664e2b3858267ff6",
   "outputs": [
    {
     "data": {
      "text/plain": [
       "([Parameter containing:\n",
       "  tensor([0.3367], requires_grad=True),\n",
       "  Parameter containing:\n",
       "  tensor([0.1288], requires_grad=True)],\n",
       " OrderedDict([('weights', tensor([0.3367])), ('bias', tensor([0.1288]))]))"
      ]
     },
     "execution_count": 76,
     "metadata": {},
     "output_type": "execute_result"
    }
   ],
   "execution_count": 76
  },
  {
   "metadata": {
    "ExecuteTime": {
     "end_time": "2025-02-14T18:14:05.317280Z",
     "start_time": "2025-02-14T18:14:05.284073Z"
    }
   },
   "cell_type": "code",
   "source": "weight, bias",
   "id": "42990a51b7486219",
   "outputs": [
    {
     "data": {
      "text/plain": [
       "(0.7, 0.3)"
      ]
     },
     "execution_count": 77,
     "metadata": {},
     "output_type": "execute_result"
    }
   ],
   "execution_count": 77
  },
  {
   "metadata": {},
   "cell_type": "markdown",
   "source": "theres is a method called torch.inference_mode which check models predictive power. When the data through the model its going to run it through the forward() method.",
   "id": "caeb6a95c98aa33a"
  },
  {
   "metadata": {
    "ExecuteTime": {
     "end_time": "2025-02-14T18:19:33.758049Z",
     "start_time": "2025-02-14T18:19:33.706412Z"
    }
   },
   "cell_type": "code",
   "source": [
    "with torch.inference_mode():\n",
    "    y_preds = model_0(X_test)\n",
    "y_preds"
   ],
   "id": "374d3e5d8b15cc24",
   "outputs": [
    {
     "data": {
      "text/plain": [
       "tensor([[0.3982],\n",
       "        [0.4049],\n",
       "        [0.4116],\n",
       "        [0.4184],\n",
       "        [0.4251],\n",
       "        [0.4318],\n",
       "        [0.4386],\n",
       "        [0.4453],\n",
       "        [0.4520],\n",
       "        [0.4588]])"
      ]
     },
     "execution_count": 78,
     "metadata": {},
     "output_type": "execute_result"
    }
   ],
   "execution_count": 78
  },
  {
   "metadata": {
    "ExecuteTime": {
     "end_time": "2025-02-14T18:30:45.509271Z",
     "start_time": "2025-02-14T18:30:45.477722Z"
    }
   },
   "cell_type": "code",
   "source": "y_test",
   "id": "7d350f557f17d390",
   "outputs": [
    {
     "data": {
      "text/plain": [
       "tensor([[0.8600],\n",
       "        [0.8740],\n",
       "        [0.8880],\n",
       "        [0.9020],\n",
       "        [0.9160],\n",
       "        [0.9300],\n",
       "        [0.9440],\n",
       "        [0.9580],\n",
       "        [0.9720],\n",
       "        [0.9860]])"
      ]
     },
     "execution_count": 79,
     "metadata": {},
     "output_type": "execute_result"
    }
   ],
   "execution_count": 79
  },
  {
   "metadata": {
    "ExecuteTime": {
     "end_time": "2025-02-14T18:31:18.560199Z",
     "start_time": "2025-02-14T18:31:17.913133Z"
    }
   },
   "cell_type": "code",
   "source": "plot_predictions(predictions=y_preds)",
   "id": "48b5b16695e873a9",
   "outputs": [
    {
     "data": {
      "text/plain": [
       "<Figure size 1000x600 with 1 Axes>"
      ],
      "image/png": "[encoded data removed]"
     },
     "metadata": {},
     "output_type": "display_data"
    }
   ],
   "execution_count": 80
  },
  {
   "metadata": {},
   "cell_type": "markdown",
   "source": "It is good to mention that loss functions in pytorch has different names. for example, mean squared error is called MSELoss in pytorch and mean absolute error is called L1Loss in pytorch.",
   "id": "be8a221ff6653a59"
  },
  {
   "metadata": {},
   "cell_type": "markdown",
   "source": [
    "Loss = exam score (how well you performed on the exam)\n",
    "\n",
    "Optimizer = study strategy (which will improve your score)"
   ],
   "id": "73d365ba81c02d5d"
  },
  {
   "metadata": {},
   "cell_type": "markdown",
   "source": [
    "We need to underline the difference between the momentum and the learning rate as they are similar yet their purposes are different. The learning rate is the step size of the optimizer and the momentum is the acceleration of the optimizer. The momentum is used to speed up the optimization process and it is used to overcome the local minima. The momentum is used to avoid the oscillation in the optimization process.\n",
    "- we can use a analogy here to understand the momentum and the learning rate by using running on a track example.\n",
    "    - Learning rate is how big your steps are\n",
    "    - Momentum is running downhill- your past speed helps you move forward more efficiently."
   ],
   "id": "23bdebeb296554f3"
  },
  {
   "metadata": {
    "ExecuteTime": {
     "end_time": "2025-02-14T20:46:34.587742Z",
     "start_time": "2025-02-14T20:46:30.184801Z"
    }
   },
   "cell_type": "code",
   "source": [
    "loss_fn = nn.L1Loss()\n",
    "\n",
    "optimizer = torch.optim.SGD(model_0.parameters(), lr=0.01)"
   ],
   "id": "656f0f89d5d6155",
   "outputs": [],
   "execution_count": 81
  },
  {
   "metadata": {},
   "cell_type": "markdown",
   "source": "We need to underline the torch.zero_grad in every training loop we are going to use. It is used to zero the gradients of the model parameters. If you do not use this it will add app to the old gradients which will lead to incosistent loss computing hence wrong results in the end.",
   "id": "b19fa3aa8055e6d1"
  },
  {
   "metadata": {},
   "cell_type": "code",
   "outputs": [],
   "execution_count": null,
   "source": [
    "for epoch in range(1):\n",
    "    model_0.train() # train mode in pytorch sets all parameters that\n",
    "                  # require gradients to require gradients.\n",
    "    #forward pass\n",
    "    y_pred = model_0(X_train)\n",
    "    #calculate the loss\n",
    "    loss = loss_fn(y_train, y_pred)\n",
    "    #optimizer\n",
    "    optimizer.zero_grad()\n",
    "    #backward pass on the loss with respect to the model parameters\n",
    "    loss.backward()\n",
    "    #perform gradient descent\n",
    "    optimizer.step()\n",
    "\n",
    "    model_0.eval() # turns off gradient tracking\n",
    "\n"
   ],
   "id": "e873ffa6699cdfa2"
  }
 ],
 "metadata": {
  "kernelspec": {
   "name": "python3",
   "language": "python",
   "display_name": "Python 3 (ipykernel)"
  }
 },
 "nbformat": 5,
 "nbformat_minor": 9
}
