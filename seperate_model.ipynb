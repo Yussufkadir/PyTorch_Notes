{
 "cells": [
  {
   "metadata": {
    "ExecuteTime": {
     "end_time": "2025-02-16T09:15:32.778511Z",
     "start_time": "2025-02-16T09:15:32.773177Z"
    }
   },
   "cell_type": "code",
   "source": [
    "from cProfile import label\n",
    "\n",
    "import torch\n",
    "import numpy as np\n",
    "import matplotlib.pyplot as plt\n",
    "import torch.nn as nn\n",
    "from setuptools.sandbox import save_path"
   ],
   "id": "ada43f141802b10e",
   "outputs": [],
   "execution_count": 27
  },
  {
   "metadata": {
    "ExecuteTime": {
     "end_time": "2025-02-16T09:15:32.808441Z",
     "start_time": "2025-02-16T09:15:32.798156Z"
    }
   },
   "cell_type": "code",
   "source": [
    "torch.cuda.is_available()\n",
    "torch.cuda.current_device()"
   ],
   "id": "a064a20d68ba3b",
   "outputs": [
    {
     "data": {
      "text/plain": [
       "0"
      ]
     },
     "execution_count": 28,
     "metadata": {},
     "output_type": "execute_result"
    }
   ],
   "execution_count": 28
  },
  {
   "metadata": {
    "ExecuteTime": {
     "end_time": "2025-02-16T09:15:32.878878Z",
     "start_time": "2025-02-16T09:15:32.869438Z"
    }
   },
   "cell_type": "code",
   "source": [
    "weight = 0.8\n",
    "bias = 0.1\n",
    "\n",
    "X = torch.arange(0,1,0.01)\n",
    "y = weight * X + bias"
   ],
   "id": "69e9393e61a448c6",
   "outputs": [],
   "execution_count": 29
  },
  {
   "metadata": {
    "ExecuteTime": {
     "end_time": "2025-02-16T09:15:32.935874Z",
     "start_time": "2025-02-16T09:15:32.926883Z"
    }
   },
   "cell_type": "code",
   "source": [
    "precise_len = int(len(X) * 0.8)\n",
    "X_train = X[:precise_len]\n",
    "y_train = y[:precise_len]\n",
    "X_test = X[precise_len:]\n",
    "y_test = y[precise_len:]"
   ],
   "id": "148b14f5d559de5",
   "outputs": [],
   "execution_count": 30
  },
  {
   "metadata": {
    "ExecuteTime": {
     "end_time": "2025-02-16T09:15:32.992381Z",
     "start_time": "2025-02-16T09:15:32.986290Z"
    }
   },
   "cell_type": "code",
   "source": [
    "class LinearRegression(torch.nn.Module):\n",
    "    def __init__(self):\n",
    "        super().__init__()\n",
    "        self.weight = torch.nn.Parameter(torch.randn(1))\n",
    "        self.bias = torch.nn.Parameter(torch.randn(1))\n",
    "    def forward(self, x: torch.Tensor) -> torch.Tensor:\n",
    "        return self.weight * x + self.bias"
   ],
   "id": "8cd24ebe44c6871d",
   "outputs": [],
   "execution_count": 31
  },
  {
   "metadata": {
    "ExecuteTime": {
     "end_time": "2025-02-16T09:15:33.054691Z",
     "start_time": "2025-02-16T09:15:33.046503Z"
    }
   },
   "cell_type": "code",
   "source": [
    "model_1 = LinearRegression()\n",
    "loss_fn = nn.L1Loss() #MAE\n",
    "optimizer = torch.optim.SGD(model_1.parameters(), lr=0.01) #SGD optimizer"
   ],
   "id": "8b3b400375b8fb78",
   "outputs": [],
   "execution_count": 32
  },
  {
   "metadata": {
    "ExecuteTime": {
     "end_time": "2025-02-16T09:15:44.744525Z",
     "start_time": "2025-02-16T09:15:44.667535Z"
    }
   },
   "cell_type": "code",
   "source": [
    "epochs = 100\n",
    "epoch_count = []\n",
    "loss_vals = []\n",
    "test_loss_vals = []\n",
    "for epoch in range(epochs):\n",
    "    model_1.train() # enable the train mode.\n",
    "\n",
    "    y_pred = model_1(X_train) #fit on other libraries\n",
    "\n",
    "    loss = loss_fn(y_train, y_pred) #compute loss\n",
    "\n",
    "    optimizer.zero_grad() #zero_grad the gradients\n",
    "\n",
    "    loss.backward() #backpropagation\n",
    "\n",
    "    optimizer.step() #gradient descent\n",
    "\n",
    "    model_1.eval()\n",
    "\n",
    "    with torch.inference_mode():\n",
    "        y_preds = model_1(X_test)\n",
    "        test_loss = loss_fn(y_test, y_preds)\n",
    "\n",
    "    if epoch % 10 == 0:\n",
    "        epoch_count.append(epoch)\n",
    "        loss_vals.append(loss)\n",
    "        test_loss_vals.append(test_loss)\n",
    "        print(f\"epoch: {epoch} | loss: {loss} | test_loss: {test_loss}\")\n",
    "        print(model_1.state_dict())"
   ],
   "id": "13c48c5bd44b5a31",
   "outputs": [
    {
     "name": "stdout",
     "output_type": "stream",
     "text": [
      "epoch: 0 | loss: 0.17231851816177368 | test_loss: 0.43170469999313354\n",
      "OrderedDict([('weight', tensor([-0.0596])), ('bias', tensor([0.4376]))])\n",
      "epoch: 10 | loss: 0.16835609078407288 | test_loss: 0.4144837260246277\n",
      "OrderedDict([('weight', tensor([-0.0398])), ('bias', tensor([0.4371]))])\n",
      "epoch: 20 | loss: 0.16468358039855957 | test_loss: 0.39997878670692444\n",
      "OrderedDict([('weight', tensor([-0.0208])), ('bias', tensor([0.4346]))])\n",
      "epoch: 30 | loss: 0.16111236810684204 | test_loss: 0.38752424716949463\n",
      "OrderedDict([('weight', tensor([-0.0024])), ('bias', tensor([0.4306]))])\n",
      "epoch: 40 | loss: 0.15763138234615326 | test_loss: 0.3764365613460541\n",
      "OrderedDict([('weight', tensor([0.0156])), ('bias', tensor([0.4256]))])\n",
      "epoch: 50 | loss: 0.15415039658546448 | test_loss: 0.3653488755226135\n",
      "OrderedDict([('weight', tensor([0.0335])), ('bias', tensor([0.4206]))])\n",
      "epoch: 60 | loss: 0.15069177746772766 | test_loss: 0.3556371033191681\n",
      "OrderedDict([('weight', tensor([0.0511])), ('bias', tensor([0.4146]))])\n",
      "epoch: 70 | loss: 0.14726565778255463 | test_loss: 0.34764528274536133\n",
      "OrderedDict([('weight', tensor([0.0681])), ('bias', tensor([0.4074]))])\n",
      "epoch: 80 | loss: 0.14384058117866516 | test_loss: 0.3393094539642334\n",
      "OrderedDict([('weight', tensor([0.0853])), ('bias', tensor([0.4004]))])\n",
      "epoch: 90 | loss: 0.14041447639465332 | test_loss: 0.33131763339042664\n",
      "OrderedDict([('weight', tensor([0.1023])), ('bias', tensor([0.3931]))])\n"
     ]
    }
   ],
   "execution_count": 39
  },
  {
   "metadata": {
    "ExecuteTime": {
     "end_time": "2025-02-16T09:15:49.928811Z",
     "start_time": "2025-02-16T09:15:49.915566Z"
    }
   },
   "cell_type": "code",
   "source": [
    "with torch.inference_mode():\n",
    "    y_preds = model_1(X_test)\n",
    "    real_loss = loss_fn(y_test, y_preds)\n",
    "y_preds"
   ],
   "id": "f78270b3f5d2df9c",
   "outputs": [
    {
     "data": {
      "text/plain": [
       "tensor([0.4807, 0.4819, 0.4831, 0.4843, 0.4854, 0.4866, 0.4878, 0.4890, 0.4901,\n",
       "        0.4913, 0.4925, 0.4937, 0.4949, 0.4960, 0.4972, 0.4984, 0.4996, 0.5007,\n",
       "        0.5019, 0.5031])"
      ]
     },
     "execution_count": 40,
     "metadata": {},
     "output_type": "execute_result"
    }
   ],
   "execution_count": 40
  },
  {
   "metadata": {
    "ExecuteTime": {
     "end_time": "2025-02-16T09:15:52.576680Z",
     "start_time": "2025-02-16T09:15:52.567649Z"
    }
   },
   "cell_type": "code",
   "source": [
    "def plot_func(X_train, y_train, X_test, y_test, predictions=None):\n",
    "    plt.figure(figsize=(12,7))\n",
    "    plt.plot(X_train, y_train, color='b', label=\"training chunk\")\n",
    "    plt.plot(X_test, y_test, color='g', label=\"test_chunk\")\n",
    "    if predictions is not None:\n",
    "        plt.plot(X_test, predictions, color='r', label=\"predictions\")\n",
    "    plt.legend()\n",
    "    plt.show()"
   ],
   "id": "43047ec4597f7c7f",
   "outputs": [],
   "execution_count": 41
  },
  {
   "metadata": {
    "ExecuteTime": {
     "end_time": "2025-02-16T09:15:59.381692Z",
     "start_time": "2025-02-16T09:15:59.158528Z"
    }
   },
   "cell_type": "code",
   "source": "plot_func(X_train, y_train, X_test, y_test, y_preds)",
   "id": "3ceaba6b7d4a244b",
   "outputs": [
    {
     "data": {
      "text/plain": [
       "<Figure size 1200x700 with 1 Axes>"
      ],
      "image/png": "[encoded data removed]"
     },
     "metadata": {},
     "output_type": "display_data"
    }
   ],
   "execution_count": 42
  },
  {
   "metadata": {
    "ExecuteTime": {
     "end_time": "2025-02-16T09:15:33.687036Z",
     "start_time": "2025-02-16T09:15:33.677042Z"
    }
   },
   "cell_type": "code",
   "source": "print(test_loss_vals)",
   "id": "fac75d5e447cf86e",
   "outputs": [
    {
     "name": "stdout",
     "output_type": "stream",
     "text": [
      "[tensor(1.0588), tensor(0.9300), tensor(0.8213), tensor(0.7309), tensor(0.6573), tensor(0.5970), tensor(0.5483), tensor(0.5095), tensor(0.4779), tensor(0.4523)]\n"
     ]
    }
   ],
   "execution_count": 37
  },
  {
   "metadata": {
    "ExecuteTime": {
     "end_time": "2025-02-16T09:16:02.727562Z",
     "start_time": "2025-02-16T09:16:02.570337Z"
    }
   },
   "cell_type": "code",
   "source": [
    "plt.plot(epoch_count, np.array(torch.tensor(loss_vals).cpu().numpy()), color='b')\n",
    "plt.plot(epoch_count, test_loss_vals, color='r')\n",
    "plt.show()"
   ],
   "id": "36f30159df9992a0",
   "outputs": [
    {
     "data": {
      "text/plain": [
       "<Figure size 640x480 with 1 Axes>"
      ],
      "image/png": "[encoded data removed]"
     },
     "metadata": {},
     "output_type": "display_data"
    }
   ],
   "execution_count": 43
  },
  {
   "metadata": {
    "ExecuteTime": {
     "end_time": "2025-02-16T09:27:14.256772Z",
     "start_time": "2025-02-16T09:27:14.239806Z"
    }
   },
   "cell_type": "code",
   "source": [
    "#Saving the model\n",
    "from pathlib import Path\n",
    "\n",
    "MODEL_PATH = Path(\"Model_2\")\n",
    "MODEL_PATH.mkdir(parents=True, exist_ok=True)\n",
    "\n",
    "MODEL_NAME = \"isolated_pytorch_implementation.pth\"\n",
    "\n",
    "MODEL_SAVE_PATH = MODEL_PATH / MODEL_NAME\n",
    "\n",
    "torch.save(obj=model_1.state_dict(), f=MODEL_SAVE_PATH)\n",
    "print(f\"saved model into the {MODEL_SAVE_PATH}\")"
   ],
   "id": "f835ea5bd1987a00",
   "outputs": [
    {
     "name": "stdout",
     "output_type": "stream",
     "text": [
      "saved model into the Model_2/isolated_pytorch_implementation.pth\n"
     ]
    }
   ],
   "execution_count": 44
  }
 ],
 "metadata": {
  "kernelspec": {
   "name": "python3",
   "language": "python",
   "display_name": "Python 3 (ipykernel)"
  }
 },
 "nbformat": 5,
 "nbformat_minor": 9
}
